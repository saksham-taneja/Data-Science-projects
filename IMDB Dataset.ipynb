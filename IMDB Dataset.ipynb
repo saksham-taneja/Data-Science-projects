{
 "cells": [
  {
   "cell_type": "markdown",
   "metadata": {},
   "source": [
    "# DSRM Report 1"
   ]
  },
  {
   "cell_type": "markdown",
   "metadata": {},
   "source": [
    "Previous film by SussexBudgetProductions failed at box office so the next film needs to make a profit to remain in business. Therefore the company requires actionable recommendation based on previous data to ensure the upcoming film will be a sucess with a given budget of 1.5million. This report will utilise a huge data set of movies and will come up with lines of action backed up by statistics and exploratory data anlysis. The key features of the movie I want to focus on are which director to use, genre of film and country of release. I will do this by initial exploratory data analysis followed by hypothesis testing and finally an actionable recommendation based on my findings.\n",
    "\n",
    "First I import all the relevant libraries and read my datafile into a dataframe:"
   ]
  },
  {
   "cell_type": "code",
   "execution_count": 2,
   "metadata": {},
   "outputs": [],
   "source": [
    "\n",
    "myfile='movie_metadata.csv'\n",
    "#standard imports for when working with pandas\n",
    "import numpy as np\n",
    "#matplotlib inline\n",
    "from matplotlib import pyplot as plt\n",
    "import pandas as pd\n",
    "\n",
    "myfile = 'movie_metadata.csv'\n",
    "\n",
    "#read the movie metadata file into a dataframe in pandas.\n",
    "df = pd.read_csv(myfile,index_col=None)\n",
    "\n"
   ]
  },
  {
   "cell_type": "markdown",
   "metadata": {},
   "source": [
    "# Exploratory Data Analysis"
   ]
  },
  {
   "cell_type": "markdown",
   "metadata": {},
   "source": [
    "Since the aim of the next movie is to make profit, I subtract the gross amount by the budget to give us the profit of the movie. I sort the profit of the film by genre. I also include imdb score, budget and gross in the table. To examine if any of these good film genres can be made within our budget, I filtered by a maximum 1500 000."
   ]
  },
  {
   "cell_type": "code",
   "execution_count": 3,
   "metadata": {},
   "outputs": [
    {
     "name": "stderr",
     "output_type": "stream",
     "text": [
      "<ipython-input-3-9f66ee7203c3>:5: FutureWarning: Indexing with multiple keys (implicitly converted to a tuple of keys) will be deprecated, use a list instead.\n",
      "  topgenreseries=df.groupby('genres')['profit','imdb_score','budget','gross'].mean()\n"
     ]
    },
    {
     "data": {
      "text/html": [
       "<div>\n",
       "<style scoped>\n",
       "    .dataframe tbody tr th:only-of-type {\n",
       "        vertical-align: middle;\n",
       "    }\n",
       "\n",
       "    .dataframe tbody tr th {\n",
       "        vertical-align: top;\n",
       "    }\n",
       "\n",
       "    .dataframe thead th {\n",
       "        text-align: right;\n",
       "    }\n",
       "</style>\n",
       "<table border=\"1\" class=\"dataframe\">\n",
       "  <thead>\n",
       "    <tr style=\"text-align: right;\">\n",
       "      <th></th>\n",
       "      <th>profit</th>\n",
       "      <th>imdb_score</th>\n",
       "      <th>budget</th>\n",
       "      <th>gross</th>\n",
       "    </tr>\n",
       "    <tr>\n",
       "      <th>genres</th>\n",
       "      <th></th>\n",
       "      <th></th>\n",
       "      <th></th>\n",
       "      <th></th>\n",
       "    </tr>\n",
       "  </thead>\n",
       "  <tbody>\n",
       "    <tr>\n",
       "      <th>Adventure|Family|Romance</th>\n",
       "      <td>39052600.0</td>\n",
       "      <td>6.1</td>\n",
       "      <td>500000.0</td>\n",
       "      <td>39552600.0</td>\n",
       "    </tr>\n",
       "    <tr>\n",
       "      <th>Adventure|Biography|Drama|Horror|Thriller</th>\n",
       "      <td>30000882.0</td>\n",
       "      <td>5.7</td>\n",
       "      <td>500000.0</td>\n",
       "      <td>30500882.0</td>\n",
       "    </tr>\n",
       "    <tr>\n",
       "      <th>Comedy|Documentary|Drama</th>\n",
       "      <td>11464368.0</td>\n",
       "      <td>7.3</td>\n",
       "      <td>65000.0</td>\n",
       "      <td>11529368.0</td>\n",
       "    </tr>\n",
       "    <tr>\n",
       "      <th>Documentary|Drama|Sport</th>\n",
       "      <td>7130611.0</td>\n",
       "      <td>8.3</td>\n",
       "      <td>700000.0</td>\n",
       "      <td>7830611.0</td>\n",
       "    </tr>\n",
       "    <tr>\n",
       "      <th>Documentary|History|Music</th>\n",
       "      <td>6357592.5</td>\n",
       "      <td>7.8</td>\n",
       "      <td>400000.0</td>\n",
       "      <td>6757592.5</td>\n",
       "    </tr>\n",
       "  </tbody>\n",
       "</table>\n",
       "</div>"
      ],
      "text/plain": [
       "                                               profit  imdb_score    budget  \\\n",
       "genres                                                                        \n",
       "Adventure|Family|Romance                   39052600.0         6.1  500000.0   \n",
       "Adventure|Biography|Drama|Horror|Thriller  30000882.0         5.7  500000.0   \n",
       "Comedy|Documentary|Drama                   11464368.0         7.3   65000.0   \n",
       "Documentary|Drama|Sport                     7130611.0         8.3  700000.0   \n",
       "Documentary|History|Music                   6357592.5         7.8  400000.0   \n",
       "\n",
       "                                                gross  \n",
       "genres                                                 \n",
       "Adventure|Family|Romance                   39552600.0  \n",
       "Adventure|Biography|Drama|Horror|Thriller  30500882.0  \n",
       "Comedy|Documentary|Drama                   11529368.0  \n",
       "Documentary|Drama|Sport                     7830611.0  \n",
       "Documentary|History|Music                   6757592.5  "
      ]
     },
     "execution_count": 3,
     "metadata": {},
     "output_type": "execute_result"
    }
   ],
   "source": [
    "#Finding profit of a film\n",
    "df['profit'] = df['gross']- df['budget']\n",
    "#set the maximum possible budget to 1500 000\n",
    "max_budget = 1500000\n",
    "topgenreseries=df.groupby('genres')['profit','imdb_score','budget','gross'].mean()\n",
    "#find the details of films with less than the maximum budget\n",
    "budget_genres = topgenreseries[topgenreseries['budget']<max_budget]\n",
    "budget_genres = budget_genres.sort_values('profit',ascending=False)\n",
    "budget_genres.head()"
   ]
  },
  {
   "cell_type": "markdown",
   "metadata": {},
   "source": [
    "The genre Drama appears three times in the top 5 genres that make the most profit. I would like to explore Drama genre further.\n"
   ]
  },
  {
   "cell_type": "code",
   "execution_count": 4,
   "metadata": {},
   "outputs": [
    {
     "name": "stderr",
     "output_type": "stream",
     "text": [
      "<ipython-input-4-2cbf1f53c769>:2: UserWarning: Boolean Series key will be reindexed to match DataFrame index.\n",
      "  df.query('budget<1500000 & profit>0')[df[\"genres\"].str.contains(\"Drama\")].groupby(['country'])['genres'].count().reset_index()\n"
     ]
    },
    {
     "data": {
      "text/html": [
       "<div>\n",
       "<style scoped>\n",
       "    .dataframe tbody tr th:only-of-type {\n",
       "        vertical-align: middle;\n",
       "    }\n",
       "\n",
       "    .dataframe tbody tr th {\n",
       "        vertical-align: top;\n",
       "    }\n",
       "\n",
       "    .dataframe thead th {\n",
       "        text-align: right;\n",
       "    }\n",
       "</style>\n",
       "<table border=\"1\" class=\"dataframe\">\n",
       "  <thead>\n",
       "    <tr style=\"text-align: right;\">\n",
       "      <th></th>\n",
       "      <th>country</th>\n",
       "      <th>genres</th>\n",
       "    </tr>\n",
       "  </thead>\n",
       "  <tbody>\n",
       "    <tr>\n",
       "      <th>0</th>\n",
       "      <td>Afghanistan</td>\n",
       "      <td>1</td>\n",
       "    </tr>\n",
       "    <tr>\n",
       "      <th>1</th>\n",
       "      <td>Canada</td>\n",
       "      <td>1</td>\n",
       "    </tr>\n",
       "    <tr>\n",
       "      <th>2</th>\n",
       "      <td>Denmark</td>\n",
       "      <td>1</td>\n",
       "    </tr>\n",
       "    <tr>\n",
       "      <th>3</th>\n",
       "      <td>France</td>\n",
       "      <td>2</td>\n",
       "    </tr>\n",
       "    <tr>\n",
       "      <th>4</th>\n",
       "      <td>India</td>\n",
       "      <td>1</td>\n",
       "    </tr>\n",
       "    <tr>\n",
       "      <th>5</th>\n",
       "      <td>Iran</td>\n",
       "      <td>3</td>\n",
       "    </tr>\n",
       "    <tr>\n",
       "      <th>6</th>\n",
       "      <td>Ireland</td>\n",
       "      <td>1</td>\n",
       "    </tr>\n",
       "    <tr>\n",
       "      <th>7</th>\n",
       "      <td>Italy</td>\n",
       "      <td>1</td>\n",
       "    </tr>\n",
       "    <tr>\n",
       "      <th>8</th>\n",
       "      <td>Romania</td>\n",
       "      <td>1</td>\n",
       "    </tr>\n",
       "    <tr>\n",
       "      <th>9</th>\n",
       "      <td>UK</td>\n",
       "      <td>2</td>\n",
       "    </tr>\n",
       "    <tr>\n",
       "      <th>10</th>\n",
       "      <td>USA</td>\n",
       "      <td>72</td>\n",
       "    </tr>\n",
       "  </tbody>\n",
       "</table>\n",
       "</div>"
      ],
      "text/plain": [
       "        country  genres\n",
       "0   Afghanistan       1\n",
       "1        Canada       1\n",
       "2       Denmark       1\n",
       "3        France       2\n",
       "4         India       1\n",
       "5          Iran       3\n",
       "6       Ireland       1\n",
       "7         Italy       1\n",
       "8       Romania       1\n",
       "9            UK       2\n",
       "10          USA      72"
      ]
     },
     "execution_count": 4,
     "metadata": {},
     "output_type": "execute_result"
    }
   ],
   "source": [
    "# Look at country where films have produced a profit and are drama films \n",
    "df.query('budget<1500000 & profit>0')[df[\"genres\"].str.contains(\"Drama\")].groupby(['country'])['genres'].count().reset_index()"
   ]
  },
  {
   "cell_type": "markdown",
   "metadata": {},
   "source": [
    "After USA, the country with most number of films that has produced a profit within our budget is Iran."
   ]
  },
  {
   "cell_type": "markdown",
   "metadata": {},
   "source": [
    "# Hypotheses Testing"
   ]
  },
  {
   "cell_type": "markdown",
   "metadata": {},
   "source": [
    "Based on the exploratory data analysis, my Hypotheses is that drama films released for audiences in Iran will produce a high level of profit, within the budget limit. To test this Hypothesis I will conduct a T-test. The two groups to conduct the T-test on will be mean profit of drama films produced in Iran compared to mean profit of non-drama films or films not produced in Iran. The null hypotehsis is that drama films in Iran do not produce a high profit."
   ]
  },
  {
   "cell_type": "code",
   "execution_count": 5,
   "metadata": {},
   "outputs": [],
   "source": [
    "# Only use films with budget of less than 1.5 million\n",
    "\n",
    "df_budget = df.query('budget<1500000 & profit>0')\n",
    "\n",
    "\n",
    "# df_1 contains films that are Drama and df_2 is every other film\n",
    "df_1 = df_budget[df_budget[\"genres\"].str.contains(\"Drama\")]\n",
    "df_2 = df_budget[(df_budget[\"genres\"].str.contains(\"Drama\") == False)]\n",
    "\n",
    "# df_3 contains films that are Drama and produced in Iran and df_4 is every other film\n",
    "df_3 = df_budget[df_budget[\"genres\"].str.contains(\"Drama\") & df_budget[\"country\"].str.contains(\"Iran\")]\n",
    "df_4 = df_budget[(df_budget[\"genres\"].str.contains(\"Drama\") == False) | (df_budget[\"country\"].str.contains(\"Iran\") == False)]"
   ]
  },
  {
   "cell_type": "code",
   "execution_count": 14,
   "metadata": {},
   "outputs": [
    {
     "name": "stdout",
     "output_type": "stream",
     "text": [
      "The T-value is: 3.0038298242296477\n",
      "The P-value is 0.010022379783313239\n",
      "Reject null hypothesis\n",
      "2.285521063627696\n",
      "Ttest_indResult(statistic=-3.0038298242296477, pvalue=0.020044759566626477)\n"
     ]
    }
   ],
   "source": [
    "from scipy import stats\n",
    "\n",
    "# Calculating T-test\n",
    "def T_Value(df_1, df_2):\n",
    "    numerator = df_2['profit'].mean()- df_1['profit'].mean()\n",
    "\n",
    "    denominator = np.sqrt(pow(df_1['profit'].std(),2)/len(df_1) + pow(df_2['profit'].std(),2)/len(df_2))\n",
    "\n",
    "    t= numerator/denominator\n",
    "    return t\n",
    "\n",
    "# Or using packages \n",
    "T_drama_scipy = stats.ttest_ind_from_stats(df_2['profit'].mean(),df_2['profit'].std(),len(df_2), df_1['profit'].mean(),df_1['profit'].std(),len(df_1),equal_var=False)\n",
    "T_drama_Iran_scipy = stats.ttest_ind_from_stats(df_3['profit'].mean(),df_3['profit'].std(),len(df_3), df_4['profit'].mean(),df_4['profit'].std(),len(df_4),equal_var=False)\n",
    "\n",
    "t_drama = T_Value(df_1, df_2)\n",
    "t_drama_Iran = T_Value(df_3, df_4)\n",
    "print ('The T-value is:',t_drama_Iran)\n",
    "\n",
    "\n",
    "# Use T-table to work out the P-value\n",
    "p_value = T_drama_Iran_scipy.pvalue/2\n",
    "\n",
    "#p_value = 0.00314\n",
    "print ('The P-value is' ,p_value)\n",
    "if p_value < 0.05:\n",
    "    print ('Reject null hypothesis')\n",
    "else:\n",
    "    print('accept null hypothesis')\n",
    "    "
   ]
  },
  {
   "cell_type": "markdown",
   "metadata": {},
   "source": [
    "I conducted the T-test using my own calculations and the scipy package. They both produced the same T-value but a different P-value. Either way, both P-values have a significance below 0.05 therefore it is statistically significant."
   ]
  },
  {
   "cell_type": "markdown",
   "metadata": {},
   "source": [
    "The P-value for this hypothesis is below 0.05 therefore we can reject null hypothesis and conclude that drama films in Iran are signficantly likely to produce high levels of profit. The limitation of this connclusion is that the sample size of films made in Iran is very low (n=3)."
   ]
  },
  {
   "cell_type": "markdown",
   "metadata": {},
   "source": [
    "We can now think about which director to choose from the data we have filtered out. We will display the directors on a bar chart showing Imdb score and profit."
   ]
  },
  {
   "cell_type": "code",
   "execution_count": 6,
   "metadata": {
    "scrolled": true
   },
   "outputs": [
    {
     "data": {
      "text/plain": [
       "Text(0, 0.5, 'Mean Profit')"
      ]
     },
     "execution_count": 6,
     "metadata": {},
     "output_type": "execute_result"
    },
    {
     "data": {
      "image/png": "[encoded data removed]",
      "text/plain": [
       "<Figure size 432x288 with 1 Axes>"
      ]
     },
     "metadata": {
      "needs_background": "light"
     },
     "output_type": "display_data"
    },
    {
     "data": {
      "image/png": "[encoded data removed]",
      "text/plain": [
       "<Figure size 432x288 with 1 Axes>"
      ]
     },
     "metadata": {
      "needs_background": "light"
     },
     "output_type": "display_data"
    }
   ],
   "source": [
    " # df_3 is all films that produced a profit and are drama and released in Iran\n",
    "director_movies=df_3.loc[:,['director_name','movie_title']].groupby('director_name')\n",
    "\n",
    "#make a new dataframe indexed by director which stores director and counts of movie titles\n",
    "movie_counts=director_movies.count().reset_index('director_name')\n",
    "\n",
    "#change column name to reduce confusion\n",
    "movie_counts.columns = ['director_name','number_of_movies']\n",
    "\n",
    "\n",
    "# Top directors only show the top 1% of directors by number of movies made\n",
    "#n=np.percentile(list(movie_counts['number_of_movies']),99)\n",
    "\n",
    "\n",
    "\n",
    "#Top directors that produce more than 1 film\n",
    "movie_counts = movie_counts[movie_counts['number_of_movies']>=1]\n",
    "\n",
    "\n",
    "\n",
    "#put into object containing the top director by name\n",
    "movie_x_dir = movie_counts['director_name']\n",
    "\n",
    "# All directors that have made a profit and made more than 1 film\n",
    "df_director = df_3[df_3.director_name.isin(movie_x_dir)]\n",
    "\n",
    "# BoxPlots showing all directors that have made a profit and \n",
    "\n",
    "big_director_df = df_director.loc[:,['director_name','imdb_score']]\n",
    "ax2=big_director_df.plot.bar(x='director_name', y='imdb_score')\n",
    "ax2.set_ylabel(\"Mean IMDB Score\")\n",
    "\n",
    "\n",
    "big_director_df = df_director.loc[:,['director_name','profit']]\n",
    "ax1=big_director_df.plot.bar(x='director_name', y='profit')\n",
    "ax1.set_ylabel(\"Mean Profit\")\n"
   ]
  },
  {
   "cell_type": "markdown",
   "metadata": {},
   "source": [
    "Out of the three directors, Asghar Farhadi has very high IMDB score and the highest profit level. "
   ]
  },
  {
   "cell_type": "markdown",
   "metadata": {},
   "source": [
    "## Recomendation \n",
    "\n",
    "My recommendation would be to make a drama film in Persian which is released for audiences in Iran with the director Asghar Farhadi."
   ]
  },
  {
   "cell_type": "markdown",
   "metadata": {},
   "source": [
    "# Summary"
   ]
  },
  {
   "cell_type": "markdown",
   "metadata": {},
   "source": [
    "The purpose of this task was to provide actionable recommendation for an upcoming film with SussexBudgetProductions. Considering, previous films have not gone too well financially, I wanted to ensure that this recommendation provides an astute action plan which carefully considers the companies finances. Therefore when examining the imdb data, the first step involved filtering films with a maximum budget of 1500000. I also knew that profit of film and imdb score were key variables to measure which indicates the success of the film. \n",
    "\n",
    "I examined the genre of the film that was well rated, within our budget and was likely to make a profit. I recognised that the genre drama met all these criterias therefore I decided to further investigate this genre. I also noticed that Iran had a few drama films that met our criteria and were well rated. Therefore my hypothesis compared the profit of Drama films in Iran to other films. The results showed significance (p<0.05) however there were only 3 films that met the criteria and it was compared to a broad range of other films (unequal sample sizes). I think more data is required for me to make an accurate conclusion on the likelihood of its success. \n",
    "\n",
    "Based on my data analysis I may recommend SussexBudget production to make a Persian film in the genre of drama and releasing it for the Iranian market with the director Asghar Farhadi. However I think this report is preliminary data since I do not think I have enough data to be confident about my recommendation. Therefore I would like to collect more data from the Iranian film industry to further validate my recommendation. From the current data, I don't think its the best course of action to choose this recommendation. \n"
   ]
  }
 ],
 "metadata": {
  "kernelspec": {
   "display_name": "Python 3",
   "language": "python",
   "name": "python3"
  },
  "language_info": {
   "codemirror_mode": {
    "name": "ipython",
    "version": 3
   },
   "file_extension": ".py",
   "mimetype": "text/x-python",
   "name": "python",
   "nbconvert_exporter": "python",
   "pygments_lexer": "ipython3",
   "version": "3.8.3"
  }
 },
 "nbformat": 4,
 "nbformat_minor": 4
}
